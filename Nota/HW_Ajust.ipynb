{
 "cells": [
  {
   "cell_type": "markdown",
   "id": "0947f963",
   "metadata": {},
   "source": [
    "# Ejemplo 1: Proyeccion de cuentas\n",
    "\n",
    "## El modelo a emplear sera Holt - Winter con factor multiplicativo\n",
    "\n",
    "\n",
    "1. Cargar y preparar los datos\n",
    "\n",
    "Antes de aplicar cualquier modelo, es fundamental asegurar la calidad de los datos y la correcta transformación de la fecha."
   ]
  },
  {
   "cell_type": "code",
   "execution_count": null,
   "id": "67ab292e",
   "metadata": {},
   "outputs": [],
   "source": [
    "# en la terminal colocar:\n",
    "#  pip install openpyxl\n",
    "# \n",
    "\n",
    "\n",
    "import pandas as pd\n",
    "\n",
    "# Cargar el archivo Excel\n",
    "df = pd.read_excel(\"Datos.xlsx\")  \n",
    "\n",
    "# Transformar la columna de fecha a formato datetime\n",
    "df['Year'] = pd.to_datetime(df['Year'])  \n",
    "df.set_index('Year', inplace=True)  \n"
   ]
  },
  {
   "cell_type": "code",
   "execution_count": null,
   "id": "be0dbfe6",
   "metadata": {},
   "outputs": [],
   "source": [
    "# veamos que los elementos esten cargados correctamentes\n",
    "df.head()"
   ]
  },
  {
   "cell_type": "code",
   "execution_count": null,
   "id": "9a760ccf",
   "metadata": {},
   "outputs": [],
   "source": [
    "# ahora veamos los estadisticos historicos\n",
    "\n",
    "df.describe()\n",
    "# print(df.describe())"
   ]
  },
  {
   "cell_type": "markdown",
   "id": "3e4921a2",
   "metadata": {},
   "source": [
    "2. Análisis exploratorio inicial\n",
    "\n",
    "Antes de modelar, debemos visualizar los datos y verificar posibles problemas."
   ]
  },
  {
   "cell_type": "code",
   "execution_count": null,
   "id": "f124c85d",
   "metadata": {},
   "outputs": [],
   "source": [
    "import matplotlib.pyplot as plt\n",
    "\n",
    "# Graficar la serie original\n",
    "plt.figure(figsize=(10,5))\n",
    "plt.plot(df.index, df['Observ- ations'], label=\"Serie Original\", color='blue')\n",
    "plt.xlabel(\"Fecha\")\n",
    "plt.ylabel(\"Observ- ations\")\n",
    "plt.title(\"Serie de Tiempo Original\")\n",
    "plt.legend()\n",
    "plt.grid()\n",
    "plt.show()\n"
   ]
  },
  {
   "cell_type": "markdown",
   "id": "f3a2dfb3",
   "metadata": {},
   "source": [
    "3. Verificación de estacionariedad\n",
    "\n",
    "La prueba de Dickey-Fuller nos ayuda a determinar si la serie es estacionaria o si requiere transformación."
   ]
  },
  {
   "cell_type": "code",
   "execution_count": null,
   "id": "918f7b8f",
   "metadata": {},
   "outputs": [],
   "source": [
    "# en la consola colocar :\n",
    "# pip install statsmodels\n",
    "\n",
    "from statsmodels.tsa.stattools import adfuller\n",
    "\n",
    "# Aplicar prueba de Dickey-Fuller\n",
    "resultado_adf = adfuller(df['Observ- ations'])\n",
    "print(f\"ADF Statistic: {resultado_adf[0]}\")\n",
    "print(f\"p-value: {resultado_adf[1]}\")\n",
    "\n",
    "# Interpretación:\n",
    "if resultado_adf[1] < 0.05:\n",
    "    print(\"La serie es estacionaria.\")\n",
    "else:\n",
    "    print(\"La serie NO es estacionaria.\")\n"
   ]
  },
  {
   "cell_type": "markdown",
   "id": "7e5f21cf",
   "metadata": {},
   "source": [
    "4. Descomposición de la serie de tiempo\n",
    "\n",
    "Para entender tendencias y estacionalidad, aplicamos una descomposición multiplicativa."
   ]
  },
  {
   "cell_type": "code",
   "execution_count": null,
   "id": "dd365f99",
   "metadata": {},
   "outputs": [],
   "source": [
    "from statsmodels.tsa.seasonal import seasonal_decompose\n",
    "\n",
    "# Descomposición de la serie\n",
    "descomposicion = seasonal_decompose(df['Observ- ations'], model='multiplicative', period=12)\n",
    "descomposicion.plot()\n",
    "plt.show()\n",
    "\n"
   ]
  },
  {
   "cell_type": "markdown",
   "id": "49245041",
   "metadata": {},
   "source": [
    "5. Aplicar el modelo Holt-Winters\n",
    "\n",
    "Ahora ajustamos el modelo multiplicativo, que captura tanto tendencia como estacionalidad."
   ]
  },
  {
   "cell_type": "code",
   "execution_count": null,
   "id": "caee79af",
   "metadata": {},
   "outputs": [],
   "source": [
    "from statsmodels.tsa.holtwinters import ExponentialSmoothing\n",
    "\n",
    "# Ajustar el modelo Holt-Winters multiplicativo\n",
    "modelo = ExponentialSmoothing(df['Observ- ations'], trend='multiplicative', seasonal='multiplicative', seasonal_periods=12)\n",
    "ajuste = modelo.fit()\n",
    "\n",
    "# Agregar las estimaciones al DataFrame\n",
    "df['Estimación'] = ajuste.fittedvalues\n"
   ]
  },
  {
   "cell_type": "markdown",
   "id": "7c6e71d8",
   "metadata": {},
   "source": [
    "6. Generar proyecciones\n",
    "\n",
    "Definimos un horizonte de días y obtenemos las predicciones."
   ]
  },
  {
   "cell_type": "code",
   "execution_count": null,
   "id": "26933664",
   "metadata": {},
   "outputs": [],
   "source": [
    "# Número de días a proyectar\n",
    "horizonte = 10  \n",
    "predicciones = ajuste.forecast(horizonte)\n",
    "\n",
    "# Crear DataFrame con las predicciones\n",
    "df_predicciones = pd.DataFrame({\n",
    "    'Fecha': pd.date_range(start=df.index[-1], periods=horizonte+1, freq='D')[1:],\n",
    "    'Valor Estimado': predicciones\n",
    "})\n"
   ]
  },
  {
   "cell_type": "code",
   "execution_count": null,
   "id": "9984bc75",
   "metadata": {},
   "outputs": [],
   "source": [
    "# Observación de las primeras cinco predicciones\n",
    "\n",
    "df_predicciones.head()"
   ]
  },
  {
   "cell_type": "markdown",
   "id": "cb1d29fe",
   "metadata": {},
   "source": [
    "7. Visualización final\n",
    "\n",
    "Graficamos la serie original junto con los valores ajustados."
   ]
  },
  {
   "cell_type": "code",
   "execution_count": null,
   "id": "a60bbcef",
   "metadata": {},
   "outputs": [],
   "source": [
    "import matplotlib.pyplot as plt\n",
    "\n",
    "plt.figure(figsize=(10,5))\n",
    "\n",
    "# Gráfico de la serie original\n",
    "plt.plot(df.index, df['Observ- ations'], label=\"Histórico\", color='blue')\n",
    "\n",
    "# Gráfico de los valores ajustados por el modelo Holt-Winters\n",
    "plt.plot(df.index, df['Estimación'], label=\"Ajuste del Modelo\", color='orange', linestyle='dashed')\n",
    "\n",
    "# Configuración del gráfico\n",
    "plt.xlabel(\"Fecha\")\n",
    "plt.ylabel(\"Valor\")\n",
    "plt.title(\"Serie de Tiempo - Datos Originales vs. Ajuste Holt-Winters con factor multiplicativo\")\n",
    "plt.legend()\n",
    "plt.grid()\n",
    "plt.show()\n"
   ]
  },
  {
   "cell_type": "markdown",
   "id": "6246ead3",
   "metadata": {},
   "source": [
    "Ahora graficaremos los valores originales con las respectivas proyecciones a un horizonte de 10 meses"
   ]
  },
  {
   "cell_type": "code",
   "execution_count": null,
   "id": "7ba3819c",
   "metadata": {},
   "outputs": [],
   "source": [
    "plt.figure(figsize=(10,5))\n",
    "\n",
    "# Gráfico de la serie original\n",
    "plt.plot(df.index, df['Observ- ations'], label=\"Histórico\", color='blue')\n",
    "\n",
    "# Gráfico de las proyecciones\n",
    "plt.plot(df_predicciones['Fecha'], df_predicciones['Valor Estimado'], label=\"Predicción\", color='red', linestyle='dashed')\n",
    "\n",
    "# Configuración del gráfico\n",
    "plt.xlabel(\"Fecha\")\n",
    "plt.ylabel(\"Observ- ations\")\n",
    "plt.title(\"Serie de Tiempo - Datos Originales y Predicciones\")\n",
    "plt.legend()\n",
    "plt.grid()\n",
    "plt.show()\n"
   ]
  },
  {
   "cell_type": "markdown",
   "id": "d5d6156c",
   "metadata": {},
   "source": [
    "8. Veamos los parametros del modelo"
   ]
  },
  {
   "cell_type": "code",
   "execution_count": null,
   "id": "1470f0b4",
   "metadata": {},
   "outputs": [],
   "source": [
    "# Mostrar parámetros del modelo Holt-Winters\n",
    "print(\"Parámetros del modelo:\")\n",
    "print(ajuste.params)\n"
   ]
  },
  {
   "cell_type": "code",
   "execution_count": null,
   "id": "cafcdf59",
   "metadata": {},
   "outputs": [],
   "source": [
    "print(\"Nivel de suavización:\", ajuste.params['smoothing_level'])\n",
    "print(\"Tendencia de suavización:\", ajuste.params['smoothing_trend'])\n",
    "print(\"Estacionalidad de suavización:\", ajuste.params['smoothing_seasonal'])\n"
   ]
  },
  {
   "cell_type": "markdown",
   "id": "74062101",
   "metadata": {},
   "source": [
    "9. Exportar resultados a Excel\n",
    "\n",
    "Guardamos los datos originales y las proyecciones en dos pestañas."
   ]
  },
  {
   "cell_type": "code",
   "execution_count": null,
   "id": "de6242f1",
   "metadata": {},
   "outputs": [],
   "source": [
    "# escribir en la terminal:\n",
    "# pip install xlsxwriter\n",
    "\n",
    "with pd.ExcelWriter(\"resultado.xlsx\", engine='xlsxwriter') as writer:\n",
    "    df.to_excel(writer, sheet_name=\"Datos Originales\")\n",
    "    df_predicciones.to_excel(writer, sheet_name=\"Proyecciones\")\n"
   ]
  }
 ],
 "metadata": {
  "kernelspec": {
   "display_name": "Python 3",
   "language": "python",
   "name": "python3"
  },
  "language_info": {
   "codemirror_mode": {
    "name": "ipython",
    "version": 3
   },
   "file_extension": ".py",
   "mimetype": "text/x-python",
   "name": "python",
   "nbconvert_exporter": "python",
   "pygments_lexer": "ipython3",
   "version": "3.12.1"
  }
 },
 "nbformat": 4,
 "nbformat_minor": 5
}
