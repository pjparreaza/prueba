{
 "cells": [
  {
   "cell_type": "markdown",
   "id": "db99fc37",
   "metadata": {},
   "source": [
    "# Los Markdown son editores de texto\n",
    "\n",
    "Como es un editor de texto nos sirve para describir fragmetos del codigo o de la aplicacion que se desarrolla en el entorno de prueba\n",
    "\n",
    "## Iniciamos con las sintaxis \n",
    "\n",
    " - print (imprimir)"
   ]
  },
  {
   "cell_type": "code",
   "execution_count": 2,
   "id": "10dcb815",
   "metadata": {},
   "outputs": [
    {
     "name": "stdout",
     "output_type": "stream",
     "text": [
      "Hola, este es un mensaje que le puedes enseñar al usuario\n"
     ]
    }
   ],
   "source": [
    "print(\"Hola, este es un mensaje que le puedes enseñar al usuario\")"
   ]
  },
  {
   "cell_type": "markdown",
   "id": "0947f963",
   "metadata": {},
   "source": []
  }
 ],
 "metadata": {
  "kernelspec": {
   "display_name": "Python 3",
   "language": "python",
   "name": "python3"
  },
  "language_info": {
   "codemirror_mode": {
    "name": "ipython",
    "version": 3
   },
   "file_extension": ".py",
   "mimetype": "text/x-python",
   "name": "python",
   "nbconvert_exporter": "python",
   "pygments_lexer": "ipython3",
   "version": "3.12.1"
  }
 },
 "nbformat": 4,
 "nbformat_minor": 5
}
